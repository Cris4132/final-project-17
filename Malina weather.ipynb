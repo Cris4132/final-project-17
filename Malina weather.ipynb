{
 "cells": [
  {
   "cell_type": "code",
   "execution_count": 1,
   "metadata": {
    "collapsed": false
   },
   "outputs": [],
   "source": [
    "import requests\n",
    "\n",
    "url = 'https://api.darksky.net/forecast/61f22866705425aaba811325d3a0c813/'\n",
    "\n",
    "lat = 42.3601\n",
    "lng = -71.0589"
   ]
  },
  {
   "cell_type": "code",
   "execution_count": 2,
   "metadata": {
    "collapsed": false
   },
   "outputs": [],
   "source": [
    "# Get month\n",
    "# month = input('Pick a month, please use two digits')\n",
    "# day = input('Pick a day, please use two digits')\n",
    "# year = input('Pick a year, please use 4 digits')\n",
    "\n",
    "# formatted_date = \"1984-11-29T12:00:00\"\n",
    "# formatted_date = \"%s-%s-%sT12:00:00\" % (year, month, day)\n",
    "# formatted_date"
   ]
  },
  {
   "cell_type": "code",
   "execution_count": 3,
   "metadata": {
    "collapsed": true
   },
   "outputs": [],
   "source": [
    "def format_date():\n",
    "    month = input('Pick a month, please use two digits: ')\n",
    "    day = input('Pick a day, please use two digits: ')\n",
    "    year = input('Pick a year, please use four digits: ')\n",
    "    formatted_date = \"%s-%s-%sT12:00:00\" % (year, month, day)\n",
    "    return formatted_date"
   ]
  },
  {
   "cell_type": "code",
   "execution_count": 4,
   "metadata": {
    "collapsed": false
   },
   "outputs": [
    {
     "name": "stdout",
     "output_type": "stream",
     "text": [
      "Pick a month, please use two digits: 11\n",
      "Pick a day, please use two digits: 29\n",
      "Pick a year, please use four digits: 1984\n"
     ]
    }
   ],
   "source": [
    "date = format_date()"
   ]
  },
  {
   "cell_type": "code",
   "execution_count": 5,
   "metadata": {
    "collapsed": false
   },
   "outputs": [
    {
     "data": {
      "text/plain": [
       "'1984-11-29T12:00:00'"
      ]
     },
     "execution_count": 5,
     "metadata": {},
     "output_type": "execute_result"
    }
   ],
   "source": [
    "date"
   ]
  },
  {
   "cell_type": "code",
   "execution_count": 6,
   "metadata": {
    "collapsed": false
   },
   "outputs": [
    {
     "data": {
      "text/plain": [
       "<Response [200]>"
      ]
     },
     "execution_count": 6,
     "metadata": {},
     "output_type": "execute_result"
    }
   ],
   "source": [
    "r = requests.get(url + str(lat) + ',' + str(lng) + ',' + date)\n",
    "r"
   ]
  },
  {
   "cell_type": "code",
   "execution_count": 7,
   "metadata": {
    "collapsed": false
   },
   "outputs": [],
   "source": [
    "results = r.json()\n",
    "daily = results['daily']['data'][0]"
   ]
  },
  {
   "cell_type": "code",
   "execution_count": 8,
   "metadata": {
    "collapsed": false
   },
   "outputs": [
    {
     "data": {
      "text/plain": [
       "{'apparentTemperatureMax': 54.67,\n",
       " 'apparentTemperatureMaxTime': 470595600,\n",
       " 'apparentTemperatureMin': 34.66,\n",
       " 'apparentTemperatureMinTime': 470631600,\n",
       " 'cloudCover': 0.73,\n",
       " 'dewPoint': 42.99,\n",
       " 'humidity': 0.79,\n",
       " 'icon': 'rain',\n",
       " 'moonPhase': 0.23,\n",
       " 'precipIntensity': 0.0133,\n",
       " 'precipIntensityMax': 0.19,\n",
       " 'precipIntensityMaxTime': 470584800,\n",
       " 'precipProbability': 0.8,\n",
       " 'precipType': 'rain',\n",
       " 'pressure': 1004.91,\n",
       " 'summary': 'Rain in the morning.',\n",
       " 'sunriseTime': 470577238,\n",
       " 'sunsetTime': 470610884,\n",
       " 'temperatureMax': 54.67,\n",
       " 'temperatureMaxTime': 470595600,\n",
       " 'temperatureMin': 41.87,\n",
       " 'temperatureMinTime': 470631600,\n",
       " 'time': 470552400,\n",
       " 'visibility': 8.45,\n",
       " 'windBearing': 186,\n",
       " 'windSpeed': 6.62}"
      ]
     },
     "execution_count": 8,
     "metadata": {},
     "output_type": "execute_result"
    }
   ],
   "source": [
    "daily"
   ]
  },
  {
   "cell_type": "code",
   "execution_count": 9,
   "metadata": {
    "collapsed": false
   },
   "outputs": [],
   "source": [
    "# Work with high, low, icon\n",
    "high = []\n",
    "low = []\n",
    "icon = []"
   ]
  },
  {
   "cell_type": "code",
   "execution_count": 10,
   "metadata": {
    "collapsed": false
   },
   "outputs": [],
   "source": [
    "high.append(daily['temperatureMax'])\n",
    "low.append(daily['temperatureMin'])\n",
    "icon.append(daily['icon'])"
   ]
  },
  {
   "cell_type": "code",
   "execution_count": 11,
   "metadata": {
    "collapsed": false
   },
   "outputs": [
    {
     "data": {
      "text/plain": [
       "[54.67]"
      ]
     },
     "execution_count": 11,
     "metadata": {},
     "output_type": "execute_result"
    }
   ],
   "source": [
    "high"
   ]
  },
  {
   "cell_type": "code",
   "execution_count": 12,
   "metadata": {
    "collapsed": false
   },
   "outputs": [
    {
     "data": {
      "text/plain": [
       "[41.87]"
      ]
     },
     "execution_count": 12,
     "metadata": {},
     "output_type": "execute_result"
    }
   ],
   "source": [
    "low"
   ]
  },
  {
   "cell_type": "code",
   "execution_count": 13,
   "metadata": {
    "collapsed": false
   },
   "outputs": [
    {
     "data": {
      "text/plain": [
       "[54.67]"
      ]
     },
     "execution_count": 13,
     "metadata": {},
     "output_type": "execute_result"
    }
   ],
   "source": [
    "high"
   ]
  },
  {
   "cell_type": "code",
   "execution_count": 14,
   "metadata": {
    "collapsed": false
   },
   "outputs": [
    {
     "data": {
      "text/plain": [
       "['rain']"
      ]
     },
     "execution_count": 14,
     "metadata": {},
     "output_type": "execute_result"
    }
   ],
   "source": [
    "icon"
   ]
  },
  {
   "cell_type": "code",
   "execution_count": 18,
   "metadata": {
    "collapsed": false
   },
   "outputs": [
    {
     "data": {
      "text/html": [
       "<div>\n",
       "<table border=\"1\" class=\"dataframe\">\n",
       "  <thead>\n",
       "    <tr style=\"text-align: right;\">\n",
       "      <th></th>\n",
       "      <th>high</th>\n",
       "      <th>icon</th>\n",
       "      <th>low</th>\n",
       "    </tr>\n",
       "  </thead>\n",
       "  <tbody>\n",
       "    <tr>\n",
       "      <th>0</th>\n",
       "      <td>54.67</td>\n",
       "      <td>rain</td>\n",
       "      <td>41.87</td>\n",
       "    </tr>\n",
       "  </tbody>\n",
       "</table>\n",
       "</div>"
      ],
      "text/plain": [
       "    high  icon    low\n",
       "0  54.67  rain  41.87"
      ]
     },
     "execution_count": 18,
     "metadata": {},
     "output_type": "execute_result"
    }
   ],
   "source": [
    "import pandas as pd\n",
    "df = pd.DataFrame({'high': high, 'low': low, 'icon': icon})\n",
    "df"
   ]
  },
  {
   "cell_type": "markdown",
   "metadata": {},
   "source": [
    "## Modifying this to be able to go for multiple years"
   ]
  },
  {
   "cell_type": "code",
   "execution_count": 23,
   "metadata": {
    "collapsed": true
   },
   "outputs": [],
   "source": [
    "# Create a function that returns a list of dates, not just a single one\n",
    "def format_dates(ending_year = 2016):\n",
    "    \"\"\"Returns a list of dates formatted for the Dark Sky API request. Will use 2016 as the ending year unless otherwise specified\"\"\"\n",
    "    formatted_dates = []\n",
    "    month = input('Pick a month, please use two digits: ')\n",
    "    day = input('Pick a day, please use two digits: ')\n",
    "    year = input('Pick a year, please use four digits: ')\n",
    "    for y in range(int(year), ending_year + 1):\n",
    "        formatted_date = \"%s-%s-%sT12:00:00\" % (y, month, day)\n",
    "        formatted_dates.append(formatted_date)\n",
    "    return formatted_dates"
   ]
  },
  {
   "cell_type": "code",
   "execution_count": 27,
   "metadata": {
    "collapsed": false
   },
   "outputs": [
    {
     "name": "stdout",
     "output_type": "stream",
     "text": [
      "Pick a month, please use two digits: 11\n",
      "Pick a day, please use two digits: 29\n",
      "Pick a year, please use four digits: 1984\n"
     ]
    },
    {
     "data": {
      "text/plain": [
       "['1984-11-29T12:00:00',\n",
       " '1985-11-29T12:00:00',\n",
       " '1986-11-29T12:00:00',\n",
       " '1987-11-29T12:00:00',\n",
       " '1988-11-29T12:00:00',\n",
       " '1989-11-29T12:00:00',\n",
       " '1990-11-29T12:00:00',\n",
       " '1991-11-29T12:00:00',\n",
       " '1992-11-29T12:00:00',\n",
       " '1993-11-29T12:00:00',\n",
       " '1994-11-29T12:00:00',\n",
       " '1995-11-29T12:00:00',\n",
       " '1996-11-29T12:00:00',\n",
       " '1997-11-29T12:00:00',\n",
       " '1998-11-29T12:00:00',\n",
       " '1999-11-29T12:00:00',\n",
       " '2000-11-29T12:00:00',\n",
       " '2001-11-29T12:00:00',\n",
       " '2002-11-29T12:00:00',\n",
       " '2003-11-29T12:00:00',\n",
       " '2004-11-29T12:00:00',\n",
       " '2005-11-29T12:00:00',\n",
       " '2006-11-29T12:00:00',\n",
       " '2007-11-29T12:00:00',\n",
       " '2008-11-29T12:00:00',\n",
       " '2009-11-29T12:00:00',\n",
       " '2010-11-29T12:00:00',\n",
       " '2011-11-29T12:00:00',\n",
       " '2012-11-29T12:00:00',\n",
       " '2013-11-29T12:00:00',\n",
       " '2014-11-29T12:00:00',\n",
       " '2015-11-29T12:00:00',\n",
       " '2016-11-29T12:00:00']"
      ]
     },
     "execution_count": 27,
     "metadata": {},
     "output_type": "execute_result"
    }
   ],
   "source": [
    "all_dates = format_dates()\n",
    "all_dates"
   ]
  },
  {
   "cell_type": "code",
   "execution_count": 31,
   "metadata": {
    "collapsed": false
   },
   "outputs": [],
   "source": [
    "high = []\n",
    "low = []\n",
    "icon = []\n",
    "\n",
    "# Make a request for each date, and append the desired values into the appropriate list\n",
    "for date in all_dates:\n",
    "    # make the request\n",
    "    r = requests.get(url + str(lat) + ',' + str(lng) + ',' + date)\n",
    "    # convert to JSON\n",
    "    results = r.json()\n",
    "    # store daily results in their own variable to make things easier\n",
    "    daily = results['daily']['data'][0]\n",
    "    # append values\n",
    "    high.append(daily['temperatureMax'])\n",
    "    low.append(daily['temperatureMin'])\n",
    "    icon.append(daily['icon'])"
   ]
  },
  {
   "cell_type": "code",
   "execution_count": 33,
   "metadata": {
    "collapsed": false
   },
   "outputs": [],
   "source": [
    "# create a dataframe using a dictionary of all your values\n",
    "weather = pd.DataFrame({'high': high, 'low': low, 'icon': icon}, index = all_dates)"
   ]
  },
  {
   "cell_type": "code",
   "execution_count": 34,
   "metadata": {
    "collapsed": false
   },
   "outputs": [
    {
     "data": {
      "text/html": [
       "<div>\n",
       "<table border=\"1\" class=\"dataframe\">\n",
       "  <thead>\n",
       "    <tr style=\"text-align: right;\">\n",
       "      <th></th>\n",
       "      <th>high</th>\n",
       "      <th>icon</th>\n",
       "      <th>low</th>\n",
       "    </tr>\n",
       "  </thead>\n",
       "  <tbody>\n",
       "    <tr>\n",
       "      <th>1984-11-29T12:00:00</th>\n",
       "      <td>54.67</td>\n",
       "      <td>rain</td>\n",
       "      <td>41.87</td>\n",
       "    </tr>\n",
       "    <tr>\n",
       "      <th>1985-11-29T12:00:00</th>\n",
       "      <td>33.62</td>\n",
       "      <td>snow</td>\n",
       "      <td>30.32</td>\n",
       "    </tr>\n",
       "    <tr>\n",
       "      <th>1986-11-29T12:00:00</th>\n",
       "      <td>55.18</td>\n",
       "      <td>partly-cloudy-day</td>\n",
       "      <td>39.26</td>\n",
       "    </tr>\n",
       "    <tr>\n",
       "      <th>1987-11-29T12:00:00</th>\n",
       "      <td>46.06</td>\n",
       "      <td>rain</td>\n",
       "      <td>33.55</td>\n",
       "    </tr>\n",
       "    <tr>\n",
       "      <th>1988-11-29T12:00:00</th>\n",
       "      <td>48.64</td>\n",
       "      <td>partly-cloudy-day</td>\n",
       "      <td>35.29</td>\n",
       "    </tr>\n",
       "    <tr>\n",
       "      <th>1989-11-29T12:00:00</th>\n",
       "      <td>37.29</td>\n",
       "      <td>partly-cloudy-day</td>\n",
       "      <td>20.69</td>\n",
       "    </tr>\n",
       "    <tr>\n",
       "      <th>1990-11-29T12:00:00</th>\n",
       "      <td>66.89</td>\n",
       "      <td>rain</td>\n",
       "      <td>40.66</td>\n",
       "    </tr>\n",
       "    <tr>\n",
       "      <th>1991-11-29T12:00:00</th>\n",
       "      <td>50.97</td>\n",
       "      <td>partly-cloudy-day</td>\n",
       "      <td>43.10</td>\n",
       "    </tr>\n",
       "    <tr>\n",
       "      <th>1992-11-29T12:00:00</th>\n",
       "      <td>48.34</td>\n",
       "      <td>partly-cloudy-night</td>\n",
       "      <td>34.81</td>\n",
       "    </tr>\n",
       "    <tr>\n",
       "      <th>1993-11-29T12:00:00</th>\n",
       "      <td>54.00</td>\n",
       "      <td>partly-cloudy-night</td>\n",
       "      <td>33.50</td>\n",
       "    </tr>\n",
       "    <tr>\n",
       "      <th>1994-11-29T12:00:00</th>\n",
       "      <td>53.63</td>\n",
       "      <td>partly-cloudy-night</td>\n",
       "      <td>44.68</td>\n",
       "    </tr>\n",
       "    <tr>\n",
       "      <th>1995-11-29T12:00:00</th>\n",
       "      <td>36.14</td>\n",
       "      <td>snow</td>\n",
       "      <td>28.42</td>\n",
       "    </tr>\n",
       "    <tr>\n",
       "      <th>1996-11-29T12:00:00</th>\n",
       "      <td>36.33</td>\n",
       "      <td>partly-cloudy-day</td>\n",
       "      <td>23.60</td>\n",
       "    </tr>\n",
       "    <tr>\n",
       "      <th>1997-11-29T12:00:00</th>\n",
       "      <td>44.88</td>\n",
       "      <td>clear-day</td>\n",
       "      <td>36.00</td>\n",
       "    </tr>\n",
       "    <tr>\n",
       "      <th>1998-11-29T12:00:00</th>\n",
       "      <td>45.74</td>\n",
       "      <td>partly-cloudy-night</td>\n",
       "      <td>38.41</td>\n",
       "    </tr>\n",
       "    <tr>\n",
       "      <th>1999-11-29T12:00:00</th>\n",
       "      <td>44.07</td>\n",
       "      <td>partly-cloudy-night</td>\n",
       "      <td>32.33</td>\n",
       "    </tr>\n",
       "    <tr>\n",
       "      <th>2000-11-29T12:00:00</th>\n",
       "      <td>48.38</td>\n",
       "      <td>rain</td>\n",
       "      <td>37.00</td>\n",
       "    </tr>\n",
       "    <tr>\n",
       "      <th>2001-11-29T12:00:00</th>\n",
       "      <td>53.27</td>\n",
       "      <td>fog</td>\n",
       "      <td>39.54</td>\n",
       "    </tr>\n",
       "    <tr>\n",
       "      <th>2002-11-29T12:00:00</th>\n",
       "      <td>40.44</td>\n",
       "      <td>partly-cloudy-day</td>\n",
       "      <td>24.13</td>\n",
       "    </tr>\n",
       "    <tr>\n",
       "      <th>2003-11-29T12:00:00</th>\n",
       "      <td>61.08</td>\n",
       "      <td>wind</td>\n",
       "      <td>37.99</td>\n",
       "    </tr>\n",
       "    <tr>\n",
       "      <th>2004-11-29T12:00:00</th>\n",
       "      <td>48.95</td>\n",
       "      <td>partly-cloudy-night</td>\n",
       "      <td>34.51</td>\n",
       "    </tr>\n",
       "    <tr>\n",
       "      <th>2005-11-29T12:00:00</th>\n",
       "      <td>61.11</td>\n",
       "      <td>partly-cloudy-day</td>\n",
       "      <td>47.02</td>\n",
       "    </tr>\n",
       "    <tr>\n",
       "      <th>2006-11-29T12:00:00</th>\n",
       "      <td>59.85</td>\n",
       "      <td>cloudy</td>\n",
       "      <td>39.69</td>\n",
       "    </tr>\n",
       "    <tr>\n",
       "      <th>2007-11-29T12:00:00</th>\n",
       "      <td>49.63</td>\n",
       "      <td>partly-cloudy-day</td>\n",
       "      <td>36.61</td>\n",
       "    </tr>\n",
       "    <tr>\n",
       "      <th>2008-11-29T12:00:00</th>\n",
       "      <td>43.49</td>\n",
       "      <td>partly-cloudy-day</td>\n",
       "      <td>31.72</td>\n",
       "    </tr>\n",
       "    <tr>\n",
       "      <th>2009-11-29T12:00:00</th>\n",
       "      <td>52.35</td>\n",
       "      <td>partly-cloudy-night</td>\n",
       "      <td>39.83</td>\n",
       "    </tr>\n",
       "    <tr>\n",
       "      <th>2010-11-29T12:00:00</th>\n",
       "      <td>44.60</td>\n",
       "      <td>partly-cloudy-night</td>\n",
       "      <td>34.33</td>\n",
       "    </tr>\n",
       "    <tr>\n",
       "      <th>2011-11-29T12:00:00</th>\n",
       "      <td>65.81</td>\n",
       "      <td>rain</td>\n",
       "      <td>54.02</td>\n",
       "    </tr>\n",
       "    <tr>\n",
       "      <th>2012-11-29T12:00:00</th>\n",
       "      <td>42.40</td>\n",
       "      <td>partly-cloudy-night</td>\n",
       "      <td>32.67</td>\n",
       "    </tr>\n",
       "    <tr>\n",
       "      <th>2013-11-29T12:00:00</th>\n",
       "      <td>33.12</td>\n",
       "      <td>clear-day</td>\n",
       "      <td>24.15</td>\n",
       "    </tr>\n",
       "    <tr>\n",
       "      <th>2014-11-29T12:00:00</th>\n",
       "      <td>33.39</td>\n",
       "      <td>partly-cloudy-night</td>\n",
       "      <td>23.93</td>\n",
       "    </tr>\n",
       "    <tr>\n",
       "      <th>2015-11-29T12:00:00</th>\n",
       "      <td>42.33</td>\n",
       "      <td>partly-cloudy-night</td>\n",
       "      <td>32.20</td>\n",
       "    </tr>\n",
       "    <tr>\n",
       "      <th>2016-11-29T12:00:00</th>\n",
       "      <td>57.96</td>\n",
       "      <td>rain</td>\n",
       "      <td>36.14</td>\n",
       "    </tr>\n",
       "  </tbody>\n",
       "</table>\n",
       "</div>"
      ],
      "text/plain": [
       "                      high                 icon    low\n",
       "1984-11-29T12:00:00  54.67                 rain  41.87\n",
       "1985-11-29T12:00:00  33.62                 snow  30.32\n",
       "1986-11-29T12:00:00  55.18    partly-cloudy-day  39.26\n",
       "1987-11-29T12:00:00  46.06                 rain  33.55\n",
       "1988-11-29T12:00:00  48.64    partly-cloudy-day  35.29\n",
       "1989-11-29T12:00:00  37.29    partly-cloudy-day  20.69\n",
       "1990-11-29T12:00:00  66.89                 rain  40.66\n",
       "1991-11-29T12:00:00  50.97    partly-cloudy-day  43.10\n",
       "1992-11-29T12:00:00  48.34  partly-cloudy-night  34.81\n",
       "1993-11-29T12:00:00  54.00  partly-cloudy-night  33.50\n",
       "1994-11-29T12:00:00  53.63  partly-cloudy-night  44.68\n",
       "1995-11-29T12:00:00  36.14                 snow  28.42\n",
       "1996-11-29T12:00:00  36.33    partly-cloudy-day  23.60\n",
       "1997-11-29T12:00:00  44.88            clear-day  36.00\n",
       "1998-11-29T12:00:00  45.74  partly-cloudy-night  38.41\n",
       "1999-11-29T12:00:00  44.07  partly-cloudy-night  32.33\n",
       "2000-11-29T12:00:00  48.38                 rain  37.00\n",
       "2001-11-29T12:00:00  53.27                  fog  39.54\n",
       "2002-11-29T12:00:00  40.44    partly-cloudy-day  24.13\n",
       "2003-11-29T12:00:00  61.08                 wind  37.99\n",
       "2004-11-29T12:00:00  48.95  partly-cloudy-night  34.51\n",
       "2005-11-29T12:00:00  61.11    partly-cloudy-day  47.02\n",
       "2006-11-29T12:00:00  59.85               cloudy  39.69\n",
       "2007-11-29T12:00:00  49.63    partly-cloudy-day  36.61\n",
       "2008-11-29T12:00:00  43.49    partly-cloudy-day  31.72\n",
       "2009-11-29T12:00:00  52.35  partly-cloudy-night  39.83\n",
       "2010-11-29T12:00:00  44.60  partly-cloudy-night  34.33\n",
       "2011-11-29T12:00:00  65.81                 rain  54.02\n",
       "2012-11-29T12:00:00  42.40  partly-cloudy-night  32.67\n",
       "2013-11-29T12:00:00  33.12            clear-day  24.15\n",
       "2014-11-29T12:00:00  33.39  partly-cloudy-night  23.93\n",
       "2015-11-29T12:00:00  42.33  partly-cloudy-night  32.20\n",
       "2016-11-29T12:00:00  57.96                 rain  36.14"
      ]
     },
     "execution_count": 34,
     "metadata": {},
     "output_type": "execute_result"
    }
   ],
   "source": [
    "weather"
   ]
  },
  {
   "cell_type": "code",
   "execution_count": null,
   "metadata": {
    "collapsed": true
   },
   "outputs": [],
   "source": []
  }
 ],
 "metadata": {
  "anaconda-cloud": {},
  "kernelspec": {
   "display_name": "Python [conda root]",
   "language": "python",
   "name": "conda-root-py"
  },
  "language_info": {
   "codemirror_mode": {
    "name": "ipython",
    "version": 3
   },
   "file_extension": ".py",
   "mimetype": "text/x-python",
   "name": "python",
   "nbconvert_exporter": "python",
   "pygments_lexer": "ipython3",
   "version": "3.5.2"
  }
 },
 "nbformat": 4,
 "nbformat_minor": 1
}
